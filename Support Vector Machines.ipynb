{
 "cells": [
  {
   "cell_type": "markdown",
   "metadata": {},
   "source": [
    "# Support Vector Machines from scratch"
   ]
  },
  {
   "cell_type": "code",
   "execution_count": 1,
   "metadata": {},
   "outputs": [],
   "source": [
    "import os\n",
    "import torch\n",
    "import numpy as np\n",
    "import matplotlib.pyplot as plt\n",
    "from cvxopt import matrix as cvxmat\n",
    "from cvxopt import solvers as solver\n",
    "from sklearn.datasets import make_blobs\n",
    "from sklearn.preprocessing import StandardScaler"
   ]
  },
  {
   "cell_type": "code",
   "execution_count": 2,
   "metadata": {},
   "outputs": [],
   "source": [
    "def generate_data(n_samples=200, n_features=2, centers=2, center_box=(-15, 15), cluster_std=2):\n",
    "    X, y = make_blobs(n_samples=200, n_features=2, centers=2, center_box=(-15, 15), cluster_std=2)\n",
    "    y[y == 0] = -1 \n",
    "    y = y.astype(float)\n",
    "    \n",
    "    st = StandardScaler()\n",
    "    X_s = st.fit_transform(X)\n",
    "    return X_s, y"
   ]
  },
  {
   "cell_type": "code",
   "execution_count": 3,
   "metadata": {},
   "outputs": [],
   "source": [
    "X, y = generate_data()"
   ]
  },
  {
   "cell_type": "code",
   "execution_count": 4,
   "metadata": {},
   "outputs": [
    {
     "data": {
      "text/plain": [
       "<matplotlib.collections.PathCollection at 0x16c4301cb88>"
      ]
     },
     "execution_count": 4,
     "metadata": {},
     "output_type": "execute_result"
    },
    {
     "data": {
      "image/png": "[encoded data removed]",
      "text/plain": [
       "<Figure size 432x288 with 1 Axes>"
      ]
     },
     "metadata": {
      "needs_background": "light"
     },
     "output_type": "display_data"
    }
   ],
   "source": [
    "plt.scatter(X[:, 0], X[:, 1], c=y)"
   ]
  },
  {
   "cell_type": "markdown",
   "metadata": {},
   "source": [
    "$$\n",
    "    \\large\n",
    "    \\boldsymbol{K}_{ij} = \\phi(\\boldsymbol{x}_i)^\\top \\phi(\\boldsymbol{x}_j)\n",
    "$$"
   ]
  },
  {
   "cell_type": "markdown",
   "metadata": {},
   "source": [
    "$$\n",
    "    \\large\n",
    "    \\max_{\\boldsymbol{\\sigma}; \\boldsymbol{\\sigma} \\geq 0}  \\sum_{i=1}^{N}\\sigma_i - \\frac{1}{2} \\sum_{i=1}^{N}\\sum_{j=1}^{N} \\sigma_i \\sigma_j y_i y_j \\boldsymbol{K}_{ij} \\\\\n",
    "    \\large\n",
    "    \\min_{\\boldsymbol{\\sigma}; \\boldsymbol{\\sigma} \\geq 0}  \\frac{1}{2} \\sum_{i=1}^{N}\\sum_{j=1}^{N} \\sigma_i \\sigma_j y_i y_j \\boldsymbol{K}_{ij} -  \\sum_{i=1}^{N}\\sigma_i  \n",
    "$$\n"
   ]
  },
  {
   "cell_type": "markdown",
   "metadata": {},
   "source": [
    "$$\n",
    "\\large\n",
    "    P_{ij} = y_i y_j \\boldsymbol{K}_{ij}\n",
    "$$"
   ]
  },
  {
   "cell_type": "markdown",
   "metadata": {},
   "source": [
    "$$\n",
    "    \\large\n",
    "    \\boldsymbol{w} = \\sum_{i=1}^{N} y_i \\sigma_i\\boldsymbol{x}_i\n",
    "$$"
   ]
  },
  {
   "cell_type": "markdown",
   "metadata": {},
   "source": [
    "$$\n",
    "    \\large\n",
    "    b = y_s - \\sum_{m \\in S} \\sigma_m y_m \\phi(\\boldsymbol{x}_m)^\\top \\phi(\\boldsymbol{x}_s) \\\\\n",
    "    \\text{where} \\; S \\; \\text{is the set of support vectors such as} \\; \\sigma_i > 0\n",
    "$$"
   ]
  },
  {
   "cell_type": "markdown",
   "metadata": {},
   "source": [
    "- Compute $\\boldsymbol{P}$.\n",
    "- Compute $\\boldsymbol{w}$.\n",
    "- Find the support vectors $S$ by finding any data point where $\\sigma_i > 0$.\n",
    "- Compute $b$.\n",
    "- To predict, compute:\n",
    "$$\n",
    "    \\large\n",
    "    y_{test} = \\text{sign}\\left(\\boldsymbol{w}^\\top \\phi({\\boldsymbol{x}_{test}}) + b \\right)\n",
    "$$"
   ]
  },
  {
   "cell_type": "markdown",
   "metadata": {},
   "source": [
    "CVXOPT form:\n",
    "$$\n",
    "    \\min \\frac{1}{2} \\boldsymbol{x}^\\top\\boldsymbol{P}\\boldsymbol{x} + \\boldsymbol{q}^\\top\\boldsymbol{x}\\\\\n",
    "    \\text{s.t.} \\\\\n",
    "    \\boldsymbol{G}\\boldsymbol{x} \\leq h \\\\\n",
    "    \\boldsymbol{A}\\boldsymbol{x} = 0\n",
    "$$"
   ]
  },
  {
   "cell_type": "markdown",
   "metadata": {},
   "source": [
    "In matrix form the dual optimization is:\n",
    "$$\n",
    "    \\min \\frac{1}{2} \\boldsymbol{\\sigma}^\\top \\boldsymbol{P} \\boldsymbol{\\sigma} - 1^\\top\\boldsymbol{\\sigma} \\\\\n",
    "    \\text{s.t.} \\\\\n",
    "    - \\sigma_i \\leq 0 \\\\\n",
    "    \\boldsymbol{y}^\\top \\boldsymbol{\\sigma} = 0\n",
    "$$"
   ]
  },
  {
   "cell_type": "code",
   "execution_count": 5,
   "metadata": {},
   "outputs": [],
   "source": [
    "def linear_kernel(X_1, X_2):\n",
    "    return np.dot(X_1, X_2)"
   ]
  },
  {
   "cell_type": "code",
   "execution_count": 6,
   "metadata": {},
   "outputs": [],
   "source": [
    "class SupportVectorClassifier():\n",
    "    def __init__(self, kernel):\n",
    "        self.kernel = kernel\n",
    "        \n",
    "    def fit(self, X, y):\n",
    "        if len(y.shape) == 1:\n",
    "            y = np.expand_dims(y, axis=1)\n",
    "        y = y.astype(float)\n",
    "        n_samples, n_features = X.shape\n",
    "        K = np.zeros((n_samples, n_samples))\n",
    "        for i in range(n_samples):\n",
    "            for j in range(n_samples):\n",
    "                K[i, j] = self.kernel(X[i, :], X[j, :])\n",
    "        q = cvxmat(np.ones((n_samples, 1)) * -1.)\n",
    "        h = cvxmat(np.zeros((n_samples, 1)))\n",
    "        G = cvxmat(np.eye(n_samples) * -1.)\n",
    "        A = cvxmat(y.T)\n",
    "        b = cvxmat(0.)\n",
    "        P = cvxmat(np.outer(y, y) * K)\n",
    "        \n",
    "        sigma = np.array(solver.qp(P, q, G, h, A, b)['x'])\n",
    "        \n",
    "        sv_idx = sigma > 1e-5\n",
    "        self.sv_sigma = np.expand_dims(sigma[sv_idx], axis=1)\n",
    "        sv_idx = np.squeeze(sv_idx)\n",
    "        self.sv = X[sv_idx, :]\n",
    "        self.sv_y = y[sv_idx]\n",
    "        \n",
    "        w = np.sum(self.sv_y * self.sv_sigma * self.sv, axis=0)\n",
    "        self.w = np.expand_dims(w, axis=1)\n",
    "        \n",
    "        # Gather all pairwise distance of the support vectors\n",
    "        idx = sv_idx.astype(int).nonzero()[0]\n",
    "        b = 0\n",
    "        sv_sigma_flat = self.sv_sigma.flatten()\n",
    "        sv_y_flat = self.sv_y.flatten()\n",
    "        for i in range(len(idx)):\n",
    "            b += self.sv_y[i]\n",
    "            b -= np.sum(sv_sigma_flat * sv_y_flat * K[idx[i], sv_idx])\n",
    "        b /= len(idx)\n",
    "        self.b = b\n",
    "        \n",
    "    def project(self, X):\n",
    "        return np.dot(X, self.w) + self.b\n",
    "    \n",
    "    def predict(self, X):\n",
    "        return np.sign(self.project(X))"
   ]
  },
  {
   "cell_type": "code",
   "execution_count": 7,
   "metadata": {},
   "outputs": [
    {
     "name": "stdout",
     "output_type": "stream",
     "text": [
      "     pcost       dcost       gap    pres   dres\n",
      " 0: -8.1536e+00 -1.3408e+01  4e+02  2e+01  2e+00\n",
      " 1: -4.5837e+00 -2.4591e+00  3e+01  1e+00  9e-02\n",
      " 2: -4.8384e-01 -1.7558e+00  1e+00  1e-15  1e-15\n",
      " 3: -9.3612e-01 -1.3294e+00  4e-01  4e-16  7e-16\n",
      " 4: -1.2029e+00 -1.3047e+00  1e-01  4e-16  6e-16\n",
      " 5: -1.2928e+00 -1.2943e+00  2e-03  4e-16  8e-16\n",
      " 6: -1.2941e+00 -1.2941e+00  2e-05  5e-16  8e-16\n",
      " 7: -1.2941e+00 -1.2941e+00  2e-07  2e-16  9e-16\n",
      "Optimal solution found.\n"
     ]
    }
   ],
   "source": [
    "svc = SupportVectorClassifier(linear_kernel)\n",
    "svc.fit(X, y)"
   ]
  },
  {
   "cell_type": "code",
   "execution_count": 8,
   "metadata": {},
   "outputs": [],
   "source": [
    "pred = svc.predict(X)"
   ]
  },
  {
   "cell_type": "code",
   "execution_count": 9,
   "metadata": {},
   "outputs": [],
   "source": [
    "def f(x, w, b):\n",
    "    return (-w[0] * x - b) / w[1]"
   ]
  },
  {
   "cell_type": "code",
   "execution_count": 22,
   "metadata": {},
   "outputs": [],
   "source": [
    "def plot_svc(X, y, svc, pred):\n",
    "    plt.scatter(X[:, 0], X[:, 1], c=y)\n",
    "    plt.scatter(svc.sv[:, 0], svc.sv[:, 1])\n",
    "    \n",
    "    w = svc.w\n",
    "    \n",
    "    \n",
    "    a = -w[0] / w[1]\n",
    "    xx = np.linspace(-1.8, 1.8)\n",
    "    yy = a * xx - svc.b[0] / w[1]\n",
    "\n",
    "    # Plot the hyperplane\n",
    "    b = svc.sv[np.where(svc.sv_y == 1.)[0]][0]\n",
    "    \n",
    "    yy_down = a * xx + (b[1] - a * b[0])\n",
    "    b = svc.sv[np.where(svc.sv_y == -1.)[0]][0]\n",
    "    yy_up = a * xx + (b[1] - a * b[0])\n",
    "    plt.plot(xx, yy, 'k-')\n",
    "    plt.plot(xx, yy_down, 'k--')\n",
    "    plt.plot(xx, yy_up, 'k--')\n"
   ]
  },
  {
   "cell_type": "code",
   "execution_count": 23,
   "metadata": {},
   "outputs": [
    {
     "data": {
      "image/png": "[encoded data removed]",
      "text/plain": [
       "<Figure size 432x288 with 1 Axes>"
      ]
     },
     "metadata": {
      "needs_background": "light"
     },
     "output_type": "display_data"
    }
   ],
   "source": [
    "plot_svc(X, y, svc, pred)"
   ]
  },
  {
   "cell_type": "code",
   "execution_count": 21,
   "metadata": {},
   "outputs": [
    {
     "data": {
      "text/plain": [
       "array([[ 0.41266123, -0.45448704]])"
      ]
     },
     "execution_count": 21,
     "metadata": {},
     "output_type": "execute_result"
    }
   ],
   "source": []
  },
  {
   "cell_type": "code",
   "execution_count": null,
   "metadata": {},
   "outputs": [],
   "source": []
  }
 ],
 "metadata": {
  "kernelspec": {
   "display_name": "Python 3",
   "language": "python",
   "name": "python3"
  },
  "language_info": {
   "codemirror_mode": {
    "name": "ipython",
    "version": 3
   },
   "file_extension": ".py",
   "mimetype": "text/x-python",
   "name": "python",
   "nbconvert_exporter": "python",
   "pygments_lexer": "ipython3",
   "version": "3.7.7"
  }
 },
 "nbformat": 4,
 "nbformat_minor": 4
}
