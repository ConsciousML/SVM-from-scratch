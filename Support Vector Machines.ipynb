{
 "cells": [
  {
   "cell_type": "markdown",
   "metadata": {},
   "source": [
    "# Support Vector Machines from scratch"
   ]
  },
  {
   "cell_type": "code",
   "execution_count": 281,
   "metadata": {},
   "outputs": [],
   "source": [
    "import os\n",
    "import torch\n",
    "import numpy as np\n",
    "import matplotlib.pyplot as plt\n",
    "from cvxopt import matrix as cvxmat\n",
    "from cvxopt import solvers as solver\n",
    "from sklearn.datasets import make_blobs\n",
    "from sklearn.preprocessing import StandardScaler"
   ]
  },
  {
   "cell_type": "code",
   "execution_count": 201,
   "metadata": {},
   "outputs": [],
   "source": [
    "X, y = make_blobs(n_samples=200, n_features=2, centers=2)"
   ]
  },
  {
   "cell_type": "code",
   "execution_count": 202,
   "metadata": {},
   "outputs": [
    {
     "data": {
      "text/plain": [
       "<matplotlib.collections.PathCollection at 0x123800c5308>"
      ]
     },
     "execution_count": 202,
     "metadata": {},
     "output_type": "execute_result"
    },
    {
     "data": {
      "image/png": "[encoded data removed]",
      "text/plain": [
       "<Figure size 432x288 with 1 Axes>"
      ]
     },
     "metadata": {
      "needs_background": "light"
     },
     "output_type": "display_data"
    }
   ],
   "source": [
    "plt.scatter(X[:, 0], X[:, 1], c=y)"
   ]
  },
  {
   "cell_type": "markdown",
   "metadata": {},
   "source": [
    "$$\n",
    "    \\large\n",
    "    \\boldsymbol{K}_{ij} = \\phi(\\boldsymbol{x}_i)^\\top \\phi(\\boldsymbol{x}_j)\n",
    "$$"
   ]
  },
  {
   "cell_type": "markdown",
   "metadata": {},
   "source": [
    "$$\n",
    "    \\large\n",
    "    \\max_{\\boldsymbol{\\sigma}; \\boldsymbol{\\sigma} \\geq 0}  \\sum_{i=1}^{N}\\sigma_i - \\frac{1}{2} \\sum_{i=1}^{N}\\sum_{j=1}^{N} \\sigma_i \\sigma_j y_i y_j \\boldsymbol{K}_{ij} \\\\\n",
    "    \\large\n",
    "    \\min_{\\boldsymbol{\\sigma}; \\boldsymbol{\\sigma} \\geq 0}  \\frac{1}{2} \\sum_{i=1}^{N}\\sum_{j=1}^{N} \\sigma_i \\sigma_j y_i y_j \\boldsymbol{K}_{ij} -  \\sum_{i=1}^{N}\\sigma_i  \n",
    "$$\n"
   ]
  },
  {
   "cell_type": "markdown",
   "metadata": {},
   "source": [
    "$$\n",
    "\\large\n",
    "    P_{ij} = y_i y_j \\phi(\\boldsymbol{x}_i)^\\top\\phi(\\boldsymbol{x}_j)\n",
    "$$"
   ]
  },
  {
   "cell_type": "markdown",
   "metadata": {},
   "source": [
    "$$\n",
    "    \\large\n",
    "    \\boldsymbol{w} = \\sum_{i=1}^{N} y_i \\sigma_i\\phi(\\boldsymbol{x}_i)\n",
    "$$"
   ]
  },
  {
   "cell_type": "markdown",
   "metadata": {},
   "source": [
    "$$\n",
    "    \\large\n",
    "    b = y_s - \\sum_{m \\in S} \\sigma_m y_m \\phi(\\boldsymbol{x}_m)^\\top \\phi(\\boldsymbol{x}_s) \\\\\n",
    "    \\text{where} \\; S \\; \\text{is the set of support vectors such as} \\; \\sigma_i > 0\n",
    "$$"
   ]
  },
  {
   "cell_type": "markdown",
   "metadata": {},
   "source": [
    "- Compute $\\boldsymbol{P}$.\n",
    "- Compute $\\boldsymbol{w}$.\n",
    "- Find the support vectors $S$ by finding any data point where $\\sigma_i > 0$.\n",
    "- Compute $b$.\n",
    "- To predict, compute:\n",
    "$$\n",
    "    \\large\n",
    "    y_{test} = \\text{sign}\\left(\\boldsymbol{w}^\\top \\phi({\\boldsymbol{x}_{test}}) + b \\right)\n",
    "$$"
   ]
  },
  {
   "cell_type": "markdown",
   "metadata": {},
   "source": [
    "CVXOPT form:\n",
    "$$\n",
    "    \\min \\frac{1}{2} \\boldsymbol{x}^\\top\\boldsymbol{P}\\boldsymbol{x} + \\boldsymbol{q}^\\top\\boldsymbol{x}\\\\\n",
    "    \\text{s.t.} \\\\\n",
    "    \\boldsymbol{G}\\boldsymbol{x} \\leq h \\\\\n",
    "    \\boldsymbol{A}\\boldsymbol{x} = 0\n",
    "$$"
   ]
  },
  {
   "cell_type": "markdown",
   "metadata": {},
   "source": [
    "In matrix form the dual optimization is:\n",
    "$$\n",
    "    \\min \\frac{1}{2} \\boldsymbol{\\sigma}^\\top \\boldsymbol{P} \\boldsymbol{\\sigma} - 1^\\top\\boldsymbol{\\sigma} \\\\\n",
    "    \\text{s.t.} \\\\\n",
    "    - \\sigma_i \\leq 0 \\\\\n",
    "    \\boldsymbol{y}^\\top \\boldsymbol{\\sigma} = 0\n",
    "$$"
   ]
  },
  {
   "cell_type": "code",
   "execution_count": 233,
   "metadata": {},
   "outputs": [],
   "source": [
    "def linear_kernel(X_1, X_2):\n",
    "    return np.dot(X_1, X_2)"
   ]
  },
  {
   "cell_type": "code",
   "execution_count": 305,
   "metadata": {},
   "outputs": [],
   "source": [
    "class SupportVectorClassifier():\n",
    "    def __init__(self, kernel):\n",
    "        self.kernel = kernel\n",
    "        \n",
    "    def fit(self, X, y):\n",
    "        n_samples, n_features = X.shape\n",
    "        K = np.zeros((n_samples, n_samples))\n",
    "        for i in range(n_samples):\n",
    "            for j in range(n_samples):\n",
    "                K[i, j] = self.kernel(X[i, :], X[j, :])\n",
    "        q = cvxmat(np.ones((n_samples, 1)) * -1.)\n",
    "        h = cvxmat(np.zeros((n_samples, 1)))\n",
    "        G = cvxmat(np.eye(n_samples) * -1.)\n",
    "        A = cvxmat(y.T)\n",
    "        b = cvxmat(0.)\n",
    "        P = cvxmat(np.outer(y, y) * K)\n",
    "        \n",
    "        sigma = np.array(solver.qp(P, q, G, h, A, b)['x'])\n",
    "        \n",
    "        sv_idx = sigma > 1e-5\n",
    "        sv_sigma = sigma[sv_idx]\n",
    "        sv_idx = np.squeeze(sv_idx)\n",
    "        sv = X[sv_idx, :]\n",
    "        sv_y = y[sv_idx]"
   ]
  },
  {
   "cell_type": "code",
   "execution_count": 306,
   "metadata": {},
   "outputs": [
    {
     "name": "stdout",
     "output_type": "stream",
     "text": [
      "[[ 1.]\n",
      " [-1.]\n",
      " [-1.]]\n"
     ]
    }
   ],
   "source": [
    "st = StandardScaler()\n",
    "X_s = st.fit_transform(X)\n",
    "y_s = st.fit_transform(y)\n",
    "\n",
    "svc = SupportVectorClassifier(linear_kernel)\n",
    "svc.fit(X_s, y_s)"
   ]
  },
  {
   "cell_type": "code",
   "execution_count": null,
   "metadata": {},
   "outputs": [],
   "source": []
  }
 ],
 "metadata": {
  "kernelspec": {
   "display_name": "Python 3",
   "language": "python",
   "name": "python3"
  },
  "language_info": {
   "codemirror_mode": {
    "name": "ipython",
    "version": 3
   },
   "file_extension": ".py",
   "mimetype": "text/x-python",
   "name": "python",
   "nbconvert_exporter": "python",
   "pygments_lexer": "ipython3",
   "version": "3.7.7"
  }
 },
 "nbformat": 4,
 "nbformat_minor": 4
}
