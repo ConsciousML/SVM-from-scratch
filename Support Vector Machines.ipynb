{
 "cells": [
  {
   "cell_type": "markdown",
   "metadata": {},
   "source": [
    "# Support Vector Machines from scratch"
   ]
  },
  {
   "cell_type": "code",
   "execution_count": 114,
   "metadata": {},
   "outputs": [],
   "source": [
    "import os\n",
    "import torch\n",
    "import numpy as np\n",
    "import matplotlib.pyplot as plt\n",
    "from cvxopt import matrix as mat\n",
    "from cvxopt import solvers as solver\n",
    "from sklearn.datasets import make_blobs"
   ]
  },
  {
   "cell_type": "code",
   "execution_count": 115,
   "metadata": {},
   "outputs": [],
   "source": [
    "X, y = make_blobs(n_samples=200, n_features=2, centers=2)"
   ]
  },
  {
   "cell_type": "code",
   "execution_count": 116,
   "metadata": {},
   "outputs": [
    {
     "data": {
      "text/plain": [
       "<matplotlib.collections.PathCollection at 0x123ffb3f2c8>"
      ]
     },
     "execution_count": 116,
     "metadata": {},
     "output_type": "execute_result"
    },
    {
     "data": {
      "image/png": "[encoded data removed]",
      "text/plain": [
       "<Figure size 432x288 with 1 Axes>"
      ]
     },
     "metadata": {
      "needs_background": "light"
     },
     "output_type": "display_data"
    }
   ],
   "source": [
    "plt.scatter(X[:, 0], X[:, 1], c=y)"
   ]
  },
  {
   "cell_type": "markdown",
   "metadata": {},
   "source": [
    "$$\n",
    "    \\large\n",
    "    \\max_{\\boldsymbol{\\sigma}; \\boldsymbol{\\sigma} \\geq 0}  \\sum_{i=1}^{N}\\sigma_i - \\frac{1}{2} \\sum_{i=1}^{N}\\sum_{j=1}^{N} \\sigma_i \\sigma_j y_i y_j \\boldsymbol{x}_i^\\top \\boldsymbol{x}_j \\\\\n",
    "    \\large\n",
    "    \\min_{\\boldsymbol{\\sigma}; \\boldsymbol{\\sigma} \\geq 0}  \\frac{1}{2} \\sum_{i=1}^{N}\\sum_{j=1}^{N} \\sigma_i \\sigma_j y_i y_j \\boldsymbol{x}_i^\\top \\boldsymbol{x}_j -  \\sum_{i=1}^{N}\\sigma_i  \n",
    "$$\n"
   ]
  },
  {
   "cell_type": "markdown",
   "metadata": {},
   "source": [
    "$$\n",
    "\\large\n",
    "    P_{ij} = y_i y_j \\boldsymbol{x}_i^\\top\\boldsymbol{x}_j\n",
    "$$"
   ]
  },
  {
   "cell_type": "markdown",
   "metadata": {},
   "source": [
    "$$\n",
    "    \\large\n",
    "    \\boldsymbol{w} = \\sum_{i=1}^{N} y_i \\sigma_i \\boldsymbol{x}_i\n",
    "$$"
   ]
  },
  {
   "cell_type": "markdown",
   "metadata": {},
   "source": [
    "$$\n",
    "    \\large\n",
    "    b = y_s - \\sum_{m \\in S} \\sigma_m y_m \\boldsymbol{x}_m^\\top \\boldsymbol{x}_s \\\\\n",
    "    \\text{where} \\; S \\; \\text{is the set of support vectors such as} \\; \\sigma_i > 0\n",
    "$$"
   ]
  },
  {
   "cell_type": "markdown",
   "metadata": {},
   "source": [
    "- Compute $\\boldsymbol{P}$.\n",
    "- Compute $\\boldsymbol{w}$.\n",
    "- Find the support vectors $S$ by finding any data point where $\\sigma_i > 0$.\n",
    "- Compute $b$.\n",
    "- To predict, compute $y_{test} = \\text{sign}\\left(\\boldsymbol{w}^\\top \\boldsymbol{x}_{test} + b \\right)$"
   ]
  },
  {
   "cell_type": "markdown",
   "metadata": {},
   "source": [
    "CVXOPT form:\n",
    "$$\n",
    "    \\min \\frac{1}{2} \\boldsymbol{x}^\\top\\boldsymbol{P}\\boldsymbol{x} + \\boldsymbol{q}^\\top\\boldsymbol{x}\\\\\n",
    "    \\text{s.t.} \\\\\n",
    "    \\boldsymbol{G}\\boldsymbol{x} \\leq h \\\\\n",
    "    \\boldsymbol{A}\\boldsymbol{x} = 0\n",
    "$$"
   ]
  },
  {
   "cell_type": "markdown",
   "metadata": {},
   "source": [
    "In matrix form the dual optimization is:\n",
    "$$\n",
    "    \\min \\frac{1}{2} \\boldsymbol{\\sigma}^\\top \\boldsymbol{P} \\boldsymbol{\\sigma} - 1^\\top\\boldsymbol{\\sigma} \\\\\n",
    "    \\text{s.t.} \\\\\n",
    "    - \\sigma_i \\leq 0 \\\\\n",
    "    \\boldsymbol{y}^\\top \\boldsymbol{\\sigma} = 0\n",
    "$$"
   ]
  },
  {
   "cell_type": "code",
   "execution_count": 117,
   "metadata": {},
   "outputs": [],
   "source": [
    "n_samples = X.shape[0]\n",
    "n_features = X.shape[1]"
   ]
  },
  {
   "cell_type": "code",
   "execution_count": 124,
   "metadata": {},
   "outputs": [],
   "source": [
    "y = np.expand_dims(y, 1).astype(float)"
   ]
  },
  {
   "cell_type": "code",
   "execution_count": 128,
   "metadata": {},
   "outputs": [],
   "source": [
    "X_tmp = y * X\n",
    "P = np.dot(X, X.T)"
   ]
  },
  {
   "cell_type": "code",
   "execution_count": 129,
   "metadata": {},
   "outputs": [],
   "source": [
    "P = mat(P)\n",
    "q = mat(-np.ones((n_samples, 1), dtype=np.float))\n",
    "G = mat(-np.eye(n_samples, dtype=np.float))\n",
    "h = mat(np.zeros((n_samples, 1), dtype=np.float))\n",
    "A = mat(y.T)\n",
    "b = mat(np.zeros(1, dtype=np.float))"
   ]
  },
  {
   "cell_type": "code",
   "execution_count": 130,
   "metadata": {},
   "outputs": [],
   "source": [
    "solver.options['show_progress'] = False\n",
    "solver.options['abstol'] = 1e-10\n",
    "solver.options['reltol'] = 1e-10\n",
    "solver.options['feastol'] = 1e-10"
   ]
  },
  {
   "cell_type": "code",
   "execution_count": 131,
   "metadata": {},
   "outputs": [],
   "source": [
    "solution = solver.qp(P, q, G, h, A, b)"
   ]
  },
  {
   "cell_type": "code",
   "execution_count": 134,
   "metadata": {},
   "outputs": [],
   "source": [
    "sigma = np.array(solution['x'])"
   ]
  },
  {
   "cell_type": "code",
   "execution_count": null,
   "metadata": {},
   "outputs": [],
   "source": []
  }
 ],
 "metadata": {
  "kernelspec": {
   "display_name": "Python 3",
   "language": "python",
   "name": "python3"
  },
  "language_info": {
   "codemirror_mode": {
    "name": "ipython",
    "version": 3
   },
   "file_extension": ".py",
   "mimetype": "text/x-python",
   "name": "python",
   "nbconvert_exporter": "python",
   "pygments_lexer": "ipython3",
   "version": "3.7.7"
  }
 },
 "nbformat": 4,
 "nbformat_minor": 4
}
